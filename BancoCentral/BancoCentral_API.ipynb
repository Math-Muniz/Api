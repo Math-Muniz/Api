{
  "nbformat": 4,
  "nbformat_minor": 0,
  "metadata": {
    "colab": {
      "name": "BancoCentral_API.ipynb",
      "provenance": [],
      "authorship_tag": "ABX9TyOn7ZWTN16uRy9Ujb9tflcV",
      "include_colab_link": true
    },
    "kernelspec": {
      "name": "python3",
      "display_name": "Python 3"
    },
    "language_info": {
      "name": "python"
    }
  },
  "cells": [
    {
      "cell_type": "markdown",
      "metadata": {
        "id": "view-in-github",
        "colab_type": "text"
      },
      "source": [
        "<a href=\"https://colab.research.google.com/github/Math-Muniz/Api/blob/main/BancoCentral/BancoCentral_API.ipynb\" target=\"_parent\"><img src=\"https://colab.research.google.com/assets/colab-badge.svg\" alt=\"Open In Colab\"/></a>"
      ]
    },
    {
      "cell_type": "code",
      "source": [
        "pip install python-bcb"
      ],
      "metadata": {
        "colab": {
          "base_uri": "https://localhost:8080/"
        },
        "id": "BzrrF-DSVgGP",
        "outputId": "3c405c48-4755-47a8-b535-5494eaccb6fa"
      },
      "execution_count": 4,
      "outputs": [
        {
          "output_type": "stream",
          "name": "stdout",
          "text": [
            "Looking in indexes: https://pypi.org/simple, https://us-python.pkg.dev/colab-wheels/public/simple/\n",
            "Collecting python-bcb\n",
            "  Downloading python_bcb-0.1.7-py3-none-any.whl (13 kB)\n",
            "Collecting httpx\n",
            "  Downloading httpx-0.23.0-py3-none-any.whl (84 kB)\n",
            "\u001b[K     |████████████████████████████████| 84 kB 2.6 MB/s \n",
            "\u001b[?25hCollecting sniffio\n",
            "  Downloading sniffio-1.2.0-py3-none-any.whl (10 kB)\n",
            "Collecting httpcore<0.16.0,>=0.15.0\n",
            "  Downloading httpcore-0.15.0-py3-none-any.whl (68 kB)\n",
            "\u001b[K     |████████████████████████████████| 68 kB 6.7 MB/s \n",
            "\u001b[?25hCollecting rfc3986[idna2008]<2,>=1.3\n",
            "  Downloading rfc3986-1.5.0-py2.py3-none-any.whl (31 kB)\n",
            "Requirement already satisfied: certifi in /usr/local/lib/python3.7/dist-packages (from httpx->python-bcb) (2022.6.15)\n",
            "Collecting anyio==3.*\n",
            "  Downloading anyio-3.6.1-py3-none-any.whl (80 kB)\n",
            "\u001b[K     |████████████████████████████████| 80 kB 6.5 MB/s \n",
            "\u001b[?25hCollecting h11<0.13,>=0.11\n",
            "  Downloading h11-0.12.0-py3-none-any.whl (54 kB)\n",
            "\u001b[K     |████████████████████████████████| 54 kB 3.7 MB/s \n",
            "\u001b[?25hRequirement already satisfied: typing-extensions in /usr/local/lib/python3.7/dist-packages (from anyio==3.*->httpcore<0.16.0,>=0.15.0->httpx->python-bcb) (4.1.1)\n",
            "Requirement already satisfied: idna>=2.8 in /usr/local/lib/python3.7/dist-packages (from anyio==3.*->httpcore<0.16.0,>=0.15.0->httpx->python-bcb) (2.10)\n",
            "Installing collected packages: sniffio, rfc3986, h11, anyio, httpcore, httpx, python-bcb\n",
            "Successfully installed anyio-3.6.1 h11-0.12.0 httpcore-0.15.0 httpx-0.23.0 python-bcb-0.1.7 rfc3986-1.5.0 sniffio-1.2.0\n"
          ]
        }
      ]
    },
    {
      "cell_type": "code",
      "execution_count": 5,
      "metadata": {
        "id": "ofvf56XjUAwg"
      },
      "outputs": [],
      "source": [
        "# Imports\n",
        "import requests\n",
        "import json\n",
        "import pandas as pd\n",
        "from bcb import sgs"
      ]
    },
    {
      "cell_type": "code",
      "source": [
        "#Armazenando a url do jason em uma variável\n",
        "ipca = 'http://api.bcb.gov.br/dados/serie/bcdata.sgs.10844/dados?formato=json&dataInicial=01/01/2010&dataFinal=31/12/2016'\n",
        "\n",
        "#extraindo o conteúdo do json\n",
        "conteudo = requests.get(ipca).content\n",
        "\n",
        "#criando um dicionário com o conteúdo do json\n",
        "ipca_dict = json.loads(conteudo)\n",
        "\n",
        "print(ipca_dict)"
      ],
      "metadata": {
        "colab": {
          "base_uri": "https://localhost:8080/"
        },
        "id": "KaTY4afDUIxq",
        "outputId": "38194705-b3bc-41d4-b480-99052f5a84c8"
      },
      "execution_count": 6,
      "outputs": [
        {
          "output_type": "stream",
          "name": "stdout",
          "text": [
            "[{'data': '01/01/2010', 'valor': '0.61'}, {'data': '01/02/2010', 'valor': '1.81'}, {'data': '01/03/2010', 'valor': '0.72'}, {'data': '01/04/2010', 'valor': '0.50'}, {'data': '01/05/2010', 'valor': '0.62'}, {'data': '01/06/2010', 'valor': '0.41'}, {'data': '01/07/2010', 'valor': '0.35'}, {'data': '01/08/2010', 'valor': '0.41'}, {'data': '01/09/2010', 'valor': '0.41'}, {'data': '01/10/2010', 'valor': '0.49'}, {'data': '01/11/2010', 'valor': '0.46'}, {'data': '01/12/2010', 'valor': '0.58'}, {'data': '01/01/2011', 'valor': '0.87'}, {'data': '01/02/2011', 'valor': '2.28'}, {'data': '01/03/2011', 'valor': '0.85'}, {'data': '01/04/2011', 'valor': '0.54'}, {'data': '01/05/2011', 'valor': '0.59'}, {'data': '01/06/2011', 'valor': '0.60'}, {'data': '01/07/2011', 'valor': '0.42'}, {'data': '01/08/2011', 'valor': '0.50'}, {'data': '01/09/2011', 'valor': '0.51'}, {'data': '01/10/2011', 'valor': '0.41'}, {'data': '01/11/2011', 'valor': '0.59'}, {'data': '01/12/2011', 'valor': '0.51'}, {'data': '01/01/2012', 'valor': '1.05'}, {'data': '01/02/2012', 'valor': '1.25'}, {'data': '01/03/2012', 'valor': '0.52'}, {'data': '01/04/2012', 'valor': '0.77'}, {'data': '01/05/2012', 'valor': '0.21'}, {'data': '01/06/2012', 'valor': '0.52'}, {'data': '01/07/2012', 'valor': '0.79'}, {'data': '01/08/2012', 'valor': '0.49'}, {'data': '01/09/2012', 'valor': '0.51'}, {'data': '01/10/2012', 'valor': '0.51'}, {'data': '01/11/2012', 'valor': '0.82'}, {'data': '01/12/2012', 'valor': '0.98'}, {'data': '01/01/2013', 'valor': '0.92'}, {'data': '01/02/2013', 'valor': '1.30'}, {'data': '01/03/2013', 'valor': '0.26'}, {'data': '01/04/2013', 'valor': '0.54'}, {'data': '01/05/2013', 'valor': '0.56'}, {'data': '01/06/2013', 'valor': '0.64'}, {'data': '01/07/2013', 'valor': '0.64'}, {'data': '01/08/2013', 'valor': '0.60'}, {'data': '01/09/2013', 'valor': '0.63'}, {'data': '01/10/2013', 'valor': '0.52'}, {'data': '01/11/2013', 'valor': '0.65'}, {'data': '01/12/2013', 'valor': '1.16'}, {'data': '01/01/2014', 'valor': '0.47'}, {'data': '01/02/2014', 'valor': '1.24'}, {'data': '01/03/2014', 'valor': '1.09'}, {'data': '01/04/2014', 'valor': '0.44'}, {'data': '01/05/2014', 'valor': '0.30'}, {'data': '01/06/2014', 'valor': '1.10'}, {'data': '01/07/2014', 'valor': '-0.05'}, {'data': '01/08/2014', 'valor': '0.59'}, {'data': '01/09/2014', 'valor': '0.77'}, {'data': '01/10/2014', 'valor': '0.43'}, {'data': '01/11/2014', 'valor': '0.46'}, {'data': '01/12/2014', 'valor': '1.20'}, {'data': '01/01/2015', 'valor': '0.87'}, {'data': '01/02/2015', 'valor': '1.07'}, {'data': '01/03/2015', 'valor': '0.58'}, {'data': '01/04/2015', 'valor': '0.72'}, {'data': '01/05/2015', 'valor': '0.20'}, {'data': '01/06/2015', 'valor': '0.79'}, {'data': '01/07/2015', 'valor': '0.54'}, {'data': '01/08/2015', 'valor': '0.32'}, {'data': '01/09/2015', 'valor': '0.67'}, {'data': '01/10/2015', 'valor': '0.62'}, {'data': '01/11/2015', 'valor': '0.46'}, {'data': '01/12/2015', 'valor': '0.97'}, {'data': '01/01/2016', 'valor': '0.66'}, {'data': '01/02/2016', 'valor': '1.05'}, {'data': '01/03/2016', 'valor': '0.24'}, {'data': '01/04/2016', 'valor': '0.58'}, {'data': '01/05/2016', 'valor': '0.37'}, {'data': '01/06/2016', 'valor': '0.33'}, {'data': '01/07/2016', 'valor': '0.62'}, {'data': '01/08/2016', 'valor': '0.59'}, {'data': '01/09/2016', 'valor': '0.33'}, {'data': '01/10/2016', 'valor': '0.47'}, {'data': '01/11/2016', 'valor': '0.41'}, {'data': '01/12/2016', 'valor': '0.65'}]\n"
          ]
        }
      ]
    },
    {
      "cell_type": "code",
      "source": [
        "# transformando o dicionário em DF\n",
        "df = pd.DataFrame(ipca_dict)\n",
        "print(df)"
      ],
      "metadata": {
        "colab": {
          "base_uri": "https://localhost:8080/"
        },
        "id": "s1lyjA5gULhZ",
        "outputId": "171f47e9-2716-4ffa-932e-f9de9e334403"
      },
      "execution_count": 7,
      "outputs": [
        {
          "output_type": "stream",
          "name": "stdout",
          "text": [
            "          data valor\n",
            "0   01/01/2010  0.61\n",
            "1   01/02/2010  1.81\n",
            "2   01/03/2010  0.72\n",
            "3   01/04/2010  0.50\n",
            "4   01/05/2010  0.62\n",
            "..         ...   ...\n",
            "79  01/08/2016  0.59\n",
            "80  01/09/2016  0.33\n",
            "81  01/10/2016  0.47\n",
            "82  01/11/2016  0.41\n",
            "83  01/12/2016  0.65\n",
            "\n",
            "[84 rows x 2 columns]\n"
          ]
        }
      ]
    },
    {
      "cell_type": "code",
      "source": [
        "#transformando o dicionário em DF usando API\n",
        "df = sgs.get({'IPCA': 433}, start='2002-02-01')\n",
        "print(df)"
      ],
      "metadata": {
        "colab": {
          "base_uri": "https://localhost:8080/"
        },
        "id": "u9hzVuXbVr6A",
        "outputId": "75338725-82b5-4cab-e725-ffce563d6caf"
      },
      "execution_count": 10,
      "outputs": [
        {
          "output_type": "stream",
          "name": "stdout",
          "text": [
            "            IPCA\n",
            "Date            \n",
            "2002-02-01  0.36\n",
            "2002-03-01  0.60\n",
            "2002-04-01  0.80\n",
            "2002-05-01  0.21\n",
            "2002-06-01  0.42\n",
            "...          ...\n",
            "2022-03-01  1.62\n",
            "2022-04-01  1.06\n",
            "2022-05-01  0.47\n",
            "2022-06-01  0.67\n",
            "2022-07-01 -0.68\n",
            "\n",
            "[246 rows x 1 columns]\n"
          ]
        }
      ]
    }
  ]
}